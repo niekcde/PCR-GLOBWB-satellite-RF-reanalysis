{
 "cells": [
  {
   "cell_type": "code",
   "execution_count": 20,
   "id": "27e9c4de",
   "metadata": {},
   "outputs": [],
   "source": [
    "#!/usr/bin/env python2\n",
    "# -*- coding: utf-8 -*-\n",
    "\"\"\"\n",
    "Created on Thu Mar 19 14:13:29 2020\n",
    "\n",
    "@author: jessicaruijsch\n",
    "\n",
    "Updated on 25 April 2022 \n",
    "@mikmagni vectorized functions for parallel\n",
    "\"\"\"\n",
    "#=================================================s=======================\n",
    "#\n",
    "# * This script extracts values from all netCDF files in a folder and \n",
    "#   outputs the values as a csv file. \n",
    "# * The values at different locations are saved in different csv files \n",
    "#   in the output file path, with location names indicated at the end of the file names.\n",
    "#\n",
    "#========================================================================\n",
    "\n",
    "from multiprocess import Pool\n",
    "import xarray as xr\n",
    "import pandas as pd\n",
    "import netCDF4\n",
    "import numpy as np\n",
    "import os \n",
    "import glob\n",
    "import re\n",
    "import tqdm"
   ]
  },
  {
   "cell_type": "code",
   "execution_count": 21,
   "id": "2d294608",
   "metadata": {},
   "outputs": [],
   "source": [
    "directory = '/Users/niekcollotdescury/Desktop/Applied data science/Thesis/R_code/data/satellite_data/'\n",
    "os.chdir(directory)"
   ]
  },
  {
   "cell_type": "code",
   "execution_count": 22,
   "id": "b512718f",
   "metadata": {},
   "outputs": [],
   "source": [
    "def check_dir_or_make(path):\n",
    "    isExist = os.path.exists(path)\n",
    "    if not isExist:\n",
    "        # Create a new directory because it does not exist\n",
    "        os.makedirs(path)"
   ]
  },
  {
   "cell_type": "code",
   "execution_count": 44,
   "id": "494e5ae7",
   "metadata": {},
   "outputs": [],
   "source": [
    "# Choose satellite product to filter\n",
    "# sat = 'ESA'\n",
    "# sat_var = 'sm'\n",
    "\n",
    "# sat = 'MODIS'\n",
    "# sat_var = 'sc'\n",
    "\n",
    "sat = 'GRACE'\n",
    "sat_var = 'lwe'"
   ]
  },
  {
   "cell_type": "code",
   "execution_count": 45,
   "id": "868f3bc2",
   "metadata": {},
   "outputs": [],
   "source": [
    "filePath = f'{sat}/upstream/'\n",
    "outputPath = f'{sat}/upstream_station_all/'\n",
    "check_dir_or_make(outputPath)\n",
    "\n",
    "loc = pd.read_csv('../stationLatLon.csv')\n",
    "# loc = loc[loc.wmo_reg == 6]\n",
    "fileName = glob.glob(f'{sat}/upstream/*.nc')\n",
    "\n",
    "nc_sample = netCDF4.Dataset(fileName[0])\n",
    "\n"
   ]
  },
  {
   "cell_type": "code",
   "execution_count": 46,
   "id": "6377e656",
   "metadata": {},
   "outputs": [],
   "source": [
    "def near(array,value):\n",
    "    idx=(np.abs(array-value)).argmin()\n",
    "    return idx"
   ]
  },
  {
   "cell_type": "code",
   "execution_count": 47,
   "id": "f5a7d6db",
   "metadata": {},
   "outputs": [],
   "source": [
    "def get_latlon():  \n",
    "    \n",
    "    xin, yin = np.array(loc['lon']), np.array(loc['lat']) \t\t#real life lon, lat\n",
    "\n",
    "    lon = nc_sample.variables['x'][:]   \t#netcdf lon    \n",
    "    lat = nc_sample.variables['y'][:]\t\t#netcdf lat\n",
    "    \n",
    "    #find nearest point to desired location\n",
    "    get_latlon.ix = [None] * len(xin)\n",
    "    get_latlon.iy = [None] * len(yin)\n",
    "    \n",
    "    for i in range(len(xin)):\n",
    "        get_latlon.ix[i] = near(lon, xin[i])\n",
    "        get_latlon.iy[i] = near(lat, yin[i])\n",
    "    get_latlon.ix = np.array(get_latlon.ix)\n",
    "    get_latlon.iy = np.array(get_latlon.iy)"
   ]
  },
  {
   "cell_type": "code",
   "execution_count": 48,
   "id": "ce133773",
   "metadata": {
    "scrolled": true
   },
   "outputs": [],
   "source": [
    "def read_write_statevars(station):\n",
    "    \n",
    "    statevar_matrix = []\n",
    "    #read statevars and write to pd.dataframe\n",
    "    names = []\n",
    "    for i in range(len(fileName)):\n",
    "\n",
    "        nc = netCDF4.Dataset(fileName[i])\n",
    "        \n",
    "        var = nc.variables[sat_var]\n",
    "        #find nearest point to desired location\n",
    "        ix = get_latlon.ix[station] # why chance it this way? Just using get_laton.ix is exactly the same??\n",
    "        iy = get_latlon.iy[station]\n",
    "        \n",
    "        mask = np.ma.getdata(var).mask[iy,ix]\n",
    "        data = np.ma.getdata(var[iy,ix])\n",
    "        if mask == True:\n",
    "            data = np.nan\n",
    "#         print(data)\n",
    "#         print(mask)\n",
    "        statevar_matrix.append(data)\n",
    "        \n",
    "\n",
    "        \n",
    "        name = re.search('\\d+_\\d+', fileName[i])[0] + '-01'\n",
    "        name = name.replace('_', '-')\n",
    "        \n",
    "        names.append(name)\n",
    "    data = np.array(statevar_matrix)\n",
    "\n",
    "    upstream = pd.DataFrame({'datetime':names, sat_var:data})\n",
    "    upstream['datetime'] = pd.to_datetime(upstream['datetime'])\n",
    "\n",
    "    upstream.sort_values(by = ['datetime'], inplace=True)\n",
    "\n",
    "    station_no = str(loc['grdc_no'].iloc[station])\n",
    "    upstream.to_csv(outputPath+f'{station_no}_{sat_var}.csv', index=False)\n",
    "\n"
   ]
  },
  {
   "cell_type": "code",
   "execution_count": 49,
   "id": "7a06f2ed",
   "metadata": {},
   "outputs": [],
   "source": [
    "get_latlon()"
   ]
  },
  {
   "cell_type": "code",
   "execution_count": 50,
   "id": "d251e00d",
   "metadata": {
    "scrolled": false
   },
   "outputs": [
    {
     "name": "stderr",
     "output_type": "stream",
     "text": [
      "100%|███████████████████████████████████████| 2287/2287 [00:51<00:00, 44.07it/s]\n"
     ]
    }
   ],
   "source": [
    "station_idx = np.array(range(len(loc))) #set vector of indexes\n",
    "pool = Pool(processes=36) # set number of cores\n",
    "\n",
    "for _ in tqdm.tqdm(pool.imap_unordered(read_write_statevars, station_idx), total=len(station_idx)):\n",
    "    pass"
   ]
  },
  {
   "cell_type": "code",
   "execution_count": null,
   "id": "bca68586",
   "metadata": {},
   "outputs": [],
   "source": []
  },
  {
   "cell_type": "code",
   "execution_count": null,
   "id": "73fd6c49",
   "metadata": {},
   "outputs": [],
   "source": []
  },
  {
   "cell_type": "code",
   "execution_count": null,
   "id": "1515d7e8",
   "metadata": {},
   "outputs": [],
   "source": []
  },
  {
   "cell_type": "code",
   "execution_count": null,
   "id": "af8e1442",
   "metadata": {},
   "outputs": [],
   "source": []
  },
  {
   "cell_type": "code",
   "execution_count": null,
   "id": "bbe19ba1",
   "metadata": {},
   "outputs": [],
   "source": []
  }
 ],
 "metadata": {
  "kernelspec": {
   "display_name": "Python 3 (ipykernel)",
   "language": "python",
   "name": "python3"
  },
  "language_info": {
   "codemirror_mode": {
    "name": "ipython",
    "version": 3
   },
   "file_extension": ".py",
   "mimetype": "text/x-python",
   "name": "python",
   "nbconvert_exporter": "python",
   "pygments_lexer": "ipython3",
   "version": "3.10.9"
  }
 },
 "nbformat": 4,
 "nbformat_minor": 5
}
