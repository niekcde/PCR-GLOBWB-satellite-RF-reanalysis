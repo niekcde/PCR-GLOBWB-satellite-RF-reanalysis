{
 "cells": [
  {
   "cell_type": "code",
   "execution_count": 1,
   "id": "27e9c4de",
   "metadata": {},
   "outputs": [],
   "source": [
    "#!/usr/bin/env python2\n",
    "# -*- coding: utf-8 -*-\n",
    "\"\"\"\n",
    "Created on Thu Mar 19 14:13:29 2020\n",
    "\n",
    "@author: jessicaruijsch\n",
    "\n",
    "Updated on 25 April 2022 \n",
    "@mikmagni vectorized functions for parallel\n",
    "\"\"\"\n",
    "#=================================================s=======================\n",
    "#\n",
    "# * This script extracts values from all netCDF files in a folder and \n",
    "#   outputs the values as a csv file. \n",
    "# * The values at different locations are saved in different csv files \n",
    "#   in the output file path, with location names indicated at the end of the file names.\n",
    "#\n",
    "#========================================================================\n",
    "\n",
    "from multiprocess import Pool\n",
    "import xarray as xr\n",
    "import pandas as pd\n",
    "import netCDF4\n",
    "import numpy as np\n",
    "import os \n",
    "import glob\n",
    "import re\n",
    "import tqdm"
   ]
  },
  {
   "cell_type": "code",
   "execution_count": 6,
   "id": "2d294608",
   "metadata": {},
   "outputs": [],
   "source": [
    "directory = '/Users/niekcollotdescury/Desktop/Applied data science/Thesis/code/data/satellite_data/'\n",
    "os.chdir(directory)"
   ]
  },
  {
   "cell_type": "code",
   "execution_count": 7,
   "id": "b512718f",
   "metadata": {},
   "outputs": [],
   "source": [
    "def check_dir_or_make(path):\n",
    "    isExist = os.path.exists(path)\n",
    "    if not isExist:\n",
    "        # Create a new directory because it does not exist\n",
    "        os.makedirs(path)"
   ]
  },
  {
   "cell_type": "code",
   "execution_count": 8,
   "id": "b06827e5",
   "metadata": {},
   "outputs": [],
   "source": [
    "def near(array,value):\n",
    "    idx=(np.abs(array-value)).argmin()\n",
    "    return idx"
   ]
  },
  {
   "cell_type": "code",
   "execution_count": 9,
   "id": "c37334bb",
   "metadata": {},
   "outputs": [],
   "source": [
    "def get_latlon():  \n",
    "    \n",
    "    xin, yin = np.array(loc['lon']), np.array(loc['lat']) \t\t#real life lon, lat\n",
    "\n",
    "    lon = nc_sample.variables['x'][:]   \t#netcdf lon    \n",
    "    lat = nc_sample.variables['y'][:]\t\t#netcdf lat\n",
    "    \n",
    "    #find nearest point to desired location\n",
    "    get_latlon.ix = [None] * len(xin)\n",
    "    get_latlon.iy = [None] * len(yin)\n",
    "    \n",
    "    for i in range(len(xin)):\n",
    "        get_latlon.ix[i] = near(lon, xin[i])\n",
    "        get_latlon.iy[i] = near(lat, yin[i])\n",
    "    get_latlon.ix = np.array(get_latlon.ix)\n",
    "    get_latlon.iy = np.array(get_latlon.iy)"
   ]
  },
  {
   "cell_type": "code",
   "execution_count": 10,
   "id": "494e5ae7",
   "metadata": {},
   "outputs": [],
   "source": [
    "# Choose satellite product to filter\n",
    "satVar = 'lwe'\n",
    "# satVar = 'sc'\n",
    "# satVar = 'sm'"
   ]
  },
  {
   "cell_type": "code",
   "execution_count": 16,
   "id": "2e8fd243",
   "metadata": {},
   "outputs": [],
   "source": [
    "filePath = f'{satVar}/upstream/'\n",
    "outputPath = f'{satVar}/upstream_station/'\n",
    "check_dir_or_make(outputPath)\n",
    "\n",
    "loc = pd.read_csv('../stationLatLon.csv')\n",
    "fileName = glob.glob(f'{satVar}/upstream/*.nc')"
   ]
  },
  {
   "cell_type": "code",
   "execution_count": 17,
   "id": "868f3bc2",
   "metadata": {},
   "outputs": [],
   "source": [
    "nc_sample = netCDF4.Dataset(fileName[0])"
   ]
  },
  {
   "cell_type": "code",
   "execution_count": 18,
   "id": "ce133773",
   "metadata": {
    "scrolled": true
   },
   "outputs": [],
   "source": [
    "def read_write_statevars(station):\n",
    "    \n",
    "    statevar_matrix = []\n",
    "    #read statevars and write to pd.dataframe\n",
    "    names = []\n",
    "    for i in range(len(fileName)):\n",
    "\n",
    "        nc = netCDF4.Dataset(fileName[i])\n",
    "        \n",
    "        var = nc.variables[satVar]\n",
    "        #find nearest point to desired location\n",
    "        ix = get_latlon.ix[station] # why chance it this way? Just using get_laton.ix is exactly the same??\n",
    "        iy = get_latlon.iy[station]\n",
    "        \n",
    "        mask = np.ma.getdata(var).mask[iy,ix]\n",
    "        data = np.ma.getdata(var[iy,ix])\n",
    "        if mask == True:\n",
    "            data = np.nan\n",
    "        statevar_matrix.append(data)\n",
    "        \n",
    "\n",
    "        \n",
    "        name = re.search('\\d+_\\d+', fileName[i])[0] + '-01'\n",
    "        name = name.replace('_', '-')\n",
    "        \n",
    "        names.append(name)\n",
    "    data = np.array(statevar_matrix)\n",
    "\n",
    "    upstream = pd.DataFrame({'datetime':names, satVar:data})\n",
    "    upstream['datetime'] = pd.to_datetime(upstream['datetime'])\n",
    "\n",
    "    upstream.sort_values(by = ['datetime'], inplace=True)\n",
    "\n",
    "    station_no = str(loc['grdc_no'].iloc[station])\n",
    "    upstream.to_csv(outputPath+f'{station_no}_{satVar}.csv', index=False)\n",
    "\n"
   ]
  },
  {
   "cell_type": "code",
   "execution_count": 19,
   "id": "7a06f2ed",
   "metadata": {},
   "outputs": [],
   "source": [
    "get_latlon()"
   ]
  },
  {
   "cell_type": "code",
   "execution_count": null,
   "id": "d251e00d",
   "metadata": {
    "scrolled": false
   },
   "outputs": [
    {
     "name": "stderr",
     "output_type": "stream",
     "text": [
      " 76%|█████████████████████████████▌         | 1730/2287 [00:35<00:12, 45.22it/s]"
     ]
    }
   ],
   "source": [
    "station_idx = np.array(range(len(loc))) #set vector of indexes\n",
    "pool = Pool(processes=36) # set number of cores\n",
    "\n",
    "for _ in tqdm.tqdm(pool.imap_unordered(read_write_statevars, station_idx), total=len(station_idx)):\n",
    "    pass"
   ]
  }
 ],
 "metadata": {
  "kernelspec": {
   "display_name": "Python 3 (ipykernel)",
   "language": "python",
   "name": "python3"
  },
  "language_info": {
   "codemirror_mode": {
    "name": "ipython",
    "version": 3
   },
   "file_extension": ".py",
   "mimetype": "text/x-python",
   "name": "python",
   "nbconvert_exporter": "python",
   "pygments_lexer": "ipython3",
   "version": "3.10.9"
  }
 },
 "nbformat": 4,
 "nbformat_minor": 5
}
